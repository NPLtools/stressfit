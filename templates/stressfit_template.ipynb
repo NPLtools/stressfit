{
 "cells": [
  {
   "cell_type": "code",
   "execution_count": null,
   "metadata": {},
   "outputs": [],
   "source": [
    "import numpy as np\n",
    "import stressfit.commands as comm\n",
    "import stressfit.shapes as shapes\n",
    "from IPython.display import HTML\n",
    "HTML('''<script>\n",
    "code_show=false; \n",
    "function code_toggle() {\n",
    " if (code_show){\n",
    " $('div.input').hide();\n",
    " } else {\n",
    " $('div.input').show();\n",
    " }\n",
    " code_show = !code_show\n",
    "} \n",
    "$( document ).ready(code_toggle);\n",
    "</script>\n",
    "<b>To hide/show the code blocks, click <a href=\"javascript:code_toggle()\">here</a>.</b>''')"
   ]
  },
  {
   "cell_type": "markdown",
   "metadata": {},
   "source": [
    "# STRESSFIT\n",
    "<p>\n",
    "<i>Written by:</i> Jan Saroun, Nuclear Physics Institute CAS, Rez, saroun@ujf.cas.cz<br/>\n",
    "<i>Date:</i> 03/20/2023<br/>\n",
    "<i>Source:</i> <a href='https://github.com/NPLtools/stressfit'>https://github.com/NPLtools/stressfit</a>\n",
    "</p>\n",
    "<p>\n",
    "This script implements common workflow for the data treatment with StressFit. On the input, STRESFIT uses a list of neutron scattering events with associated data (position, wave vectors, weight factor and \"as-measured\" lattice spacing - $d_{hkl}$}) accessible at given instrument setup. This list describes the instrumental sampling distribution independently on the sample. It can be obtained by ray-tracing simulation of the instrument using appropriate software, such as McStas (<a href='http://mcstas.org'>http://mcstas.org</a>) or SIMRES (<a href='https://github.com/saroun/simres'>https://github.com/saroun/simres</a>). \n",
    "\n",
    "STRESSFIT provides tools for 3D convolution of such a sampling list with the sample model and permits to calculate: \n",
    "\n",
    "- “centre of gravity” and size of the neutron sampling volume as a function of sample position (in 3D),\n",
    "- variation of intensity and position of diffraction peaks due to the perturbation of sampling distribution (material boundaries, absorption, composition and texture gradients),\n",
    "- “as measured” (smeared) intensity and strain distributions including the pseudo-strain effects,\n",
    "- least-squares fit of intrinsic strain and intensity distributions.\n",
    "\n",
    "</p><p>\n",
    "STRESSFIT enables to model pseudo-strains for several sample shapes such as curved plates, cylinders, spheres, tubes (both single- and multi-channel) and polygonal rods. Neutron attenuation tables for several common materials generated with the help of the NCrystal library (<a href='https://github.com/mctools/ncrystal'>https://github.com/mctools/ncrystal</a>) are provided as a part of the package resources. Currently, STRESSFIT allows for least squares fitting of measured scans for a single strain component. Simultaneous fitting of multiple strain or stress tensor components is envisaged in future versions.\n",
    "</p>    \n",
    "\n",
    "## Jupyter viewer\n",
    "\n",
    "User interface based on Jupyter notebook widgets can be launched by executing the code:\n",
    "<code>  \n",
    "import stressfit.ui.notebook as nb  \n",
    "ui = nb.UI()  \n",
    "ui.display()  \n",
    "</code> \n",
    "    \n",
    "Script examples with output of STRESSFIT are also available via Jupyter viewer server:\n",
    "<p>\n",
    "<a href='http://nbviewer.jupyter.org/url/neutron.ujf.cas.cz/restrax/download/stressfit/stressfit_example1.ipynb'>\n",
    "Example 1</a>: ECNS2019, Fitting of strain gradient under the inner surface of a tube, test on synthetic data for STRESS-SPEC.\n",
    "</p>\n",
    "\n",
    "## Documentation\n",
    "<p>\n",
    "For more information and use examples, see: <br/>\n",
    "<a href='http://neutron.ujf.cas.cz/restrax/download/stressfit/ECRS2018_stressfit.pdf'>ECRS10, 2018, slides</a><br/>\n",
    "<a href='http://neutron.ujf.cas.cz/restrax/download/stressfit/saroun_ECNS2019_poster.pdf'>ECNS 2019, poster</a> <br/>\n",
    "<a href='http://neutron.ujf.cas.cz/restrax/download/stressfit/stressfit_ECNS2023_poster.pdf'>ECNS 2023, poster</a> <br/>\n",
    "</p>"
   ]
  },
  {
   "cell_type": "markdown",
   "metadata": {},
   "source": [
    "## Workspace definition\n",
    "\n",
    "Set the directories for your workspace:\n",
    "\n",
    "`workspace`: root directory, should be an absolute path  \n",
    "`data`: input path for sampling and experimental data  \n",
    "`tables`: input path for lookup tables etc.  \n",
    "`output`: output path for all results\n",
    "\n",
    "Relative paths should exist under the workspace root directory.\n",
    "Set input path to `None` for searching in package resources."
   ]
  },
  {
   "cell_type": "code",
   "execution_count": null,
   "metadata": {},
   "outputs": [],
   "source": [
    "\"\"\"Set the root workspace directory. Use None for the current directory.\"\"\"\n",
    "workspace = None\n",
    "\n",
    "\"\"\"Set the other input/output folders (can be absolute or relative).\n",
    "Relative paths should exist under the workspace directory.\n",
    "Set to None for searching in package resources.\n",
    "\"\"\"\n",
    "env = {'output': './output', # output path (./output is the default if None)\n",
    "       'data': None,         # input path for sampling and experimental data \n",
    "       'tables': None        # input path for lookup tables etc.\n",
    "      }\n",
    "\n",
    "# Set workspace and validate\n",
    "comm.set_workspace(workspace)\n",
    "comm.set_environment(**env)\n",
    "comm.validate_workspace()"
   ]
  },
  {
   "cell_type": "markdown",
   "metadata": {},
   "source": [
    "## Sample shape\n",
    "\n",
    "Sample shape can be created by the function `shape.create(ID, **kwargs)`, which take the shape ID string and other named parameters (kwargs) as the arguments. The ID's are defined as constants in the shapes module. The named parameters depend on the shape type. For example,\n",
    "<code> S.create(shapes.Plate, thickness=10.0) </code> defines an infinitely large flat plate of given thickness. Dimensions are in mm. For documentation on other shapes, execute the command `shapes.help()`."
   ]
  },
  {
   "cell_type": "code",
   "execution_count": null,
   "metadata": {
    "scrolled": true
   },
   "outputs": [],
   "source": [
    "shapes.help()"
   ]
  },
  {
   "cell_type": "code",
   "execution_count": null,
   "metadata": {},
   "outputs": [],
   "source": [
    "# Define a tube-like sample\n",
    "# sref=0 means that the depth is measured from the outer surface ...\n",
    "shape_param = {'Rin':4.0, 'Rout':8.0, 'height':50.0, 'sref':1}\n",
    "# execute\n",
    "comm.set_shape(shapes.Tube, **shape_param)"
   ]
  },
  {
   "cell_type": "markdown",
   "metadata": {},
   "source": [
    "## Geometry\n",
    "\n",
    "The geometry data include four vectors:\n",
    "\n",
    "`angles`: Defines sample rotation with respect to the laboratory frame. The laboratory frame is defined by y-axis vertical and z-axis pointing along the incident beam. The orientation is described by YXY Euler angles in deg.  \n",
    "`rotctr`: Sample rotation centre (in sample coordinates).  \n",
    "`scandir`: Scan direction in sample coordinates (where the gauge moves relative to sample)  \n",
    "`scanorig`: Scan origin in sample coordinates. It is the point corresponding to the zero encoder value (x-value in the input data)."
   ]
  },
  {
   "cell_type": "code",
   "execution_count": null,
   "metadata": {},
   "outputs": [],
   "source": [
    "\"\"\"Define scan geometry.\"\"\"\n",
    "geom = {\n",
    "# Scan direction in sample coordinates (where the gauge moves)\n",
    "'scandir': [0., 0., -1.],\n",
    "# Sample orientation (Euler angles YXY) in deg\n",
    "'angles': [135, 0, 0],\n",
    "# Scan origin (encoder = 0) in sample coordinates\n",
    "'scanorig':[0, 0, 0],\n",
    "# Sample rotation centre (sample coordinates)\n",
    "'rotctr': [0, 0, 0]\n",
    "}\n",
    "# execute\n",
    "comm.set_geometry(geom)"
   ]
  },
  {
   "cell_type": "markdown",
   "metadata": {},
   "source": [
    "## Material\n",
    "\n",
    "Define material attenuation, either of:\n",
    "    \n",
    "- File name: A table with 2 columns (wavelength [A], attenuation [1/cm])\n",
    "- Float number: attenuation [1/cm]\n",
    "\n",
    "Example data files can be found in the package resources. Other files should be placed in the `tables` directory of the current workspace."
   ]
  },
  {
   "cell_type": "code",
   "execution_count": null,
   "metadata": {},
   "outputs": [],
   "source": [
    "comm.set_attenuation('mu_Fe_gamma.dat')"
   ]
  },
  {
   "cell_type": "markdown",
   "metadata": {},
   "source": [
    "## Sampling list\n",
    "\n",
    "Provide filename and number of events to load.  \n",
    "The file should be placed in the data input directory of the current workspace. Example files are provided in the package resources. The format is a text of 12 columns, including:\n",
    "$id, \\mathbf{r}, \\mathbf{k}_i, \\mathbf{k}_f, p, d_{hkl}$, which denote the line number, position [mm], incident and final wave vectors in 1/Ang , weight, and \"as measured\" lattice spacing in Ang."
   ]
  },
  {
   "cell_type": "code",
   "execution_count": null,
   "metadata": {},
   "outputs": [],
   "source": [
    "# Load file with the sampling event list.  \n",
    "comm.set_sampling(filename='events_S_1mm.dat', nev=10000)\n",
    "# print properties of the loaded sampling.\n",
    "comm.get_sampling().print_properties()\n"
   ]
  },
  {
   "cell_type": "markdown",
   "metadata": {},
   "source": [
    "## Show the experiment geometry\n",
    "\n",
    "This command plots the 2D scene with the sample shape and sampling events projection.\n",
    "Provide the number of events to plot as the 1st argument.\n",
    "Other optional arguments are:\n",
    "- `filename` : png file to save the plot\n",
    "- `rang` : range of the plotted area in mm\n",
    "- `proj` : projetion plane, eg. xz, zy, etc.\n",
    "    \n",
    "You may need to adapt sample/geometry above to match the required setup."
   ]
  },
  {
   "cell_type": "code",
   "execution_count": null,
   "metadata": {},
   "outputs": [],
   "source": [
    "comm.plot_scene(3000, filename='scene.png', rang=[16, 16], proj='xz')"
   ]
  },
  {
   "cell_type": "markdown",
   "metadata": {},
   "source": [
    "## Calculate resolution and pseudostrain\n",
    "\n",
    "Provide the scan range and calculate pseudo-strains for it, using the command `report_pseudo_strains()`. This function calculates the \"as-measured\" strain and intensity by making convolution of the sampling events with the sample, assuming zero intrinsic strain and uniform scattering intensity.\n",
    "\n",
    "Provide the `scan_range` and output `filename` as the 1st and 2nd arguments.\n",
    "Other optional arguments are:\n",
    "- `nev` : number of events to use\n",
    "- `intensity` : if true, show also the intensity profile."
   ]
  },
  {
   "cell_type": "code",
   "execution_count": null,
   "metadata": {},
   "outputs": [],
   "source": [
    "# Define scan range in mm: minimum, maximum and number of steps.\n",
    "scan_range = [-9, -3, 31]\n",
    "# Calculate and plot (use ; to suppress the returned value print)\n",
    "comm.report_pseudo_strains(scan_range, '', nev=3000, intensity=True);"
   ]
  },
  {
   "cell_type": "markdown",
   "metadata": {},
   "source": [
    "Calculate and plot spatial resolution characteristics, using the command `report_resolution()`.\n",
    "\n",
    "This function calculates the size and centre of gravity (CoG) of the actual sampling distribution at given scan positions.\n",
    "\n",
    "Provide the `scan_range` and output `filename` as the 1st and 2nd arguments.\n",
    "Other optional arguments are:\n",
    "- `nev` : number of events to use\n",
    "- `cog` : if true, plot also the xyz positions of the sampling CoG."
   ]
  },
  {
   "cell_type": "code",
   "execution_count": null,
   "metadata": {},
   "outputs": [],
   "source": [
    "comm.report_resolution(scan_range, '', nev=3000, cog=True)"
   ]
  },
  {
   "cell_type": "markdown",
   "metadata": {},
   "source": [
    "## Load input data\n",
    "\n",
    "Below, define file names for the input data: measured strain and intensity. They should be in 3-column text format with scan position, value and error. \n",
    "\n",
    "By default, the previously defined geometry and sampling are used.You can associate the data with other geometry/sampling by providing the values as optional keyward arguments, or afterwards by setting corresponding \n",
    "values to the scan variable. \n",
    "\n",
    "For example: <code>scan['scandir'] = [1,0,0]</code>\n",
    "\n",
    "At the end, the pseudo-strains and intensities are compared with the loaded data."
   ]
  },
  {
   "cell_type": "code",
   "execution_count": null,
   "metadata": {},
   "outputs": [],
   "source": [
    "# Load and set the input data.\n",
    "strain = 'eps_SS_rad.dat'\n",
    "intensity = 'int_SS_rad.dat'\n",
    "scan = comm.load_input(strain, intensity=intensity)\n",
    "comm.set_scan(scan)   \n",
    "\n",
    "# Calculate pseudo-strains and intensities and compare with the data.\n",
    "comm.report_data_comparison(scan, nev=3000)\n"
   ]
  },
  {
   "cell_type": "markdown",
   "metadata": {},
   "source": [
    "## Fit intensities  - setup model\n",
    "\n",
    "Fitting of intensities allows to determine the variation of scattering \n",
    "probability and extinction with scan depth. It can also help to correct \n",
    "for any missfit between the encoder positions (stored in the data file) \n",
    "and true surface position. \n",
    "\n",
    "Note that sometimes these effects can't be distinguished from each other. \n",
    "With a strong variation of scattering probability \n",
    "(e.g. due to a greadient in texture or composition near the surface), \n",
    "it is not possible to reliably determine the surface position and extinction \n",
    "just from the intensity variation. Then some of the parameters must be \n",
    "determined independently and fixed for fitting. \n",
    "On the other hand, it is the product of extinction and scattering probability \n",
    "distributions which affects pseudo-strains, therefore they do not need to be \n",
    "exactly distinguished.\n",
    "\n",
    "*NOTE*:\n",
    "    \n",
    "Scattering probability and strain distributions are defined on the depth scale.\n",
    "Definition of the <i>depth</i> depends on the sample shape. For plates, it is \n",
    "the distance to the upper surface (in local coordinates of the sample). \n",
    "For sphers and cylinders, it is the distance from the curved surface \n",
    "(the outer one in the case of hollow shapes). \n",
    "For complex samples like ETubes, the 'depth' is a position inside the sample \n",
    "projected on the scan direction.\n",
    "\n",
    "### Distribution model\n",
    "\n",
    "The depth distributions are modelled as a set of points interpolated by \n",
    "splines of selected order (1 to 3). Define below a minimum number of depth \n",
    "and intensity values which gives a satisfactory estimate of the intensity \n",
    "variation. Obviously, the intensity values should be kept constant for \n",
    "homogeneous materials.\n",
    "\n",
    "Define the `x`, `y` distribution values and associated fit-flags. For example,\n",
    "`fitx=1` means a free x-variable, 0 means fixed.\n",
    "\n",
    "`x` = depth values in mm  \n",
    "`y` = intrinsic scattering intensity in rel. units  \n",
    "\n",
    "In addition, define the method for `interpolation` between the nodes.\n",
    "Use one of `natural`,`clamped`, `PCHIP`, `Akima`. See documentation in the lmfit package. \n",
    "\n",
    "### Scaling\n",
    "\n",
    "Set scaling parameters A, B and zc, and corresponding fit-flags. \n",
    "The scaling formula is `y_scaled = A*y(z-zc) + B`.\n",
    "\n",
    "### Fit configuration\n",
    "\n",
    "Following parameters control the fitting process:\n",
    "\n",
    "`maxiter` = Maximum number of iterations  \n",
    "`bootstrap` = Use bootstrap method for estimation of confidence limits?  \n",
    "`loops` = Set loops for the number of bootstrap cycles.  \n",
    "`areg` = Regularization parameter  \n",
    "`runIFit` = Set False to skip the intensity fit\n",
    "\n",
    "### Initial estimate\n",
    "The command `run_fit_guess` below executes the simple fit estimate (without the slower convolution process).\n",
    "If necessary, adjust the above parameters to improve the initial model, and execute the block below again."
   ]
  },
  {
   "cell_type": "code",
   "execution_count": null,
   "metadata": {},
   "outputs": [],
   "source": [
    "# Distribution model\n",
    "distribution = {\n",
    "    'x':    [0., 1., 2.5, 3.5, 4],\n",
    "    'fitx': [0, 0, 0, 0, 0],\n",
    "    'y':    [1., 1., 1., 1., 1.],\n",
    "    'fity': [0, 0, 0, 0, 0]\n",
    "    }\n",
    "interpolation = 'natural'\n",
    "\n",
    "# Scaling\n",
    "scaling = {\n",
    "    'A':  20000,\n",
    "    'B':  0,\n",
    "    'zc': 0.05\n",
    "    }\n",
    "f_scaling = {\n",
    "    'fA':  1,\n",
    "    'fB':  0,\n",
    "    'fzc': 1\n",
    "    }   \n",
    "\n",
    "# Maximum number of iterations\n",
    "maxiter = 100\n",
    "# Use bootstrap method for estimation of confidence limits?\n",
    "bootstrap = False\n",
    "# Set loops for the number of bootstrap cycles.\n",
    "loops = 3\n",
    "# regularization parameter\n",
    "areg = 3\n",
    "# Set False to skip intensity fit\n",
    "runIFit = True\n",
    "\n",
    "\"\"\"Commands to define the fitting model.\"\"\"\n",
    "ifit = comm.define_ifit(scan, distribution, 3000)\n",
    "comm.define_scaling(ifit, scaling, f_scaling)\n",
    "ifit.setInterpModel(interpolation)\n",
    "\n",
    "\"\"\"Guess fit.\"\"\"\n",
    "if runIFit:\n",
    "    comm.run_fit_guess(ifit, maxiter=maxiter, ar=areg, outname='')\n"
   ]
  },
  {
   "cell_type": "markdown",
   "metadata": {},
   "source": [
    "## Fit intensities - run and report results\n"
   ]
  },
  {
   "cell_type": "code",
   "execution_count": null,
   "metadata": {},
   "outputs": [],
   "source": [
    "if runIFit:\n",
    "    comm.run_fit(ifit, maxiter=maxiter, ar=areg, bootstrap=bootstrap, \n",
    "                 loops=loops, outname=scan['intfile'])"
   ]
  },
  {
   "cell_type": "markdown",
   "metadata": {},
   "source": [
    "## Fit strain - setup model\n",
    "\n",
    "Fitting of strain depth distribution is similar to the above procedure for \n",
    "fitting intensities. The scattering probability distribution determined \n",
    "above will be automatically taken into account in modelling of \n",
    "pseudo-strains below.\n",
    "\n",
    "The depth distributions are modelled as a set of points \n",
    "(depth, strain) interpolated by splines of selected order (1 to 3).\n",
    "Define below a minimum number of depth and strain values which is required\n",
    "to gives a satisfactory estimate of the strain distribution. \n",
    " \n",
    "Define the `x`, `y` distribution values and associated fit-flags. For example,\n",
    "`fitx=1` means a free x-variable, 0 means fixed.\n",
    "\n",
    "`x` = depth values in mm  \n",
    "`y` = strain in 1e-6 units   \n",
    "\n",
    "The 1st and last x-value should always be fixed ...\n",
    "\n",
    "In addition, define the method for `interpolation` between the nodes.\n",
    "Use one of `natural`,`clamped`, `PCHIP`, `Akima`. See documentation in the lmfit package. \n",
    "\n",
    "### Fit configuration\n",
    "\n",
    "Following parameters control the fitting process:\n",
    "\n",
    "`maxiter` = Maximum number of iterations  \n",
    "`maxguess` = Maximum iterations for guess fit.\n",
    "`bootstrap` = Use bootstrap method for estimation of confidence limits?  \n",
    "`loops` = Set loops for the number of bootstrap cycles.  \n",
    "`areg` = Regularization parameter  \n",
    "`aregs` = A list of regularization factors to scan through\n",
    "`runSFit` = Set False to skip the strain fit\n",
    "`runReg` = Run regularization loop?\n",
    "\n",
    "### Initial estimate\n",
    "The command `run_fit_guess` below executes the simple fit estimate (without the slower convolution process).\n",
    "If necessary, adjust the above parameters to improve the initial model, and execute the block below again.\n"
   ]
  },
  {
   "cell_type": "code",
   "execution_count": null,
   "metadata": {},
   "outputs": [],
   "source": [
    "distribution = {\n",
    "    'x':   [0., 1., 2.0 , 2.5, 3.0 , 3.5 , 3.7 ,  4.],\n",
    "    'fitx': [0] + 6*[1] + [0],\n",
    "    'y':  8*[0],\n",
    "    'fity': 8*[1]\n",
    "    }\n",
    "interpolation = 'natural'\n",
    "\n",
    "# You can use surface position from the intensity fit:\n",
    "zc = ifit.params['xc'].value\n",
    "print('Using surface position: {:g}\\n'.format(zc))\n",
    "\n",
    "\"\"\"Commands to define the fitting model.\"\"\"\n",
    "sfit = comm.define_sfit(scan, distribution, 3000, z0=zc)\n",
    "sfit.setInterpModel(interpolation)\n",
    "\n",
    "# Use bootstrap method for estimation of confidence limits?\n",
    "bootstrap = True\n",
    "# Set loops for the number of bootstrap cycles.\n",
    "loops = 3\n",
    "# Define a list of regularization factors:\n",
    "aregs = [1, 2, 3, 4, 5]\n",
    "# maximum iterations for guess fit\n",
    "maxguess = 100\n",
    "# maximum iterations for fit\n",
    "maxiter = 250\n",
    "# Run regularization loop?\n",
    "runReg = True\n",
    "# Run strain fit?\n",
    "runSFit = True\n",
    "\n",
    "# Run guess fit with given parameters (see docs for run_fit_guess)\n",
    "if runSFit:\n",
    "    comm.run_fit_guess(sfit, maxiter=maxguess, ar=areg, outname='')"
   ]
  },
  {
   "cell_type": "markdown",
   "metadata": {},
   "source": [
    "### Run regularization loop\n",
    "\n",
    "Regularization is necessary to avoid overfitting. It introduces additional penalty for non-smooth solutions (minimizes 2nd derivative of the distribution). Its weight is defined by the `areg` parameter. Usually, the optimum value of `areg` is somewhere bewteen 0 and 5. To acieve an optimal result, a scan with reguilarization parameter values should be done (takes long). For this set above  `runReg=True` and define the list of `values in `aregs`. \n"
   ]
  },
  {
   "cell_type": "code",
   "execution_count": null,
   "metadata": {},
   "outputs": [],
   "source": [
    "if runSFit and runReg:\n",
    "    comm.run_fit_reg(sfit, maxiter=maxiter, ar=aregs, outname='')"
   ]
  },
  {
   "cell_type": "markdown",
   "metadata": {},
   "source": [
    "##  Fit strain - run final fit\n",
    "\n",
    "Choose below the optimum regularization value (areg) and run the final fit."
   ]
  },
  {
   "cell_type": "code",
   "execution_count": null,
   "metadata": {},
   "outputs": [],
   "source": [
    "areg = 3\n",
    "if runSFit:\n",
    "    comm.run_fit(sfit, maxiter=maxiter, ar=areg, outname=scan['epsfile'], \n",
    "                 bootstrap=bootstrap, loops=loops)"
   ]
  },
  {
   "cell_type": "code",
   "execution_count": null,
   "metadata": {},
   "outputs": [],
   "source": []
  }
 ],
 "metadata": {
  "kernelspec": {
   "display_name": "Python 3",
   "language": "python",
   "name": "python3"
  },
  "language_info": {
   "codemirror_mode": {
    "name": "ipython",
    "version": 3
   },
   "file_extension": ".py",
   "mimetype": "text/x-python",
   "name": "python",
   "nbconvert_exporter": "python",
   "pygments_lexer": "ipython3",
   "version": "3.8.5"
  }
 },
 "nbformat": 4,
 "nbformat_minor": 2
}
